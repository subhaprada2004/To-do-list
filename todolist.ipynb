{
 "cells": [
  {
   "cell_type": "code",
   "execution_count": 1,
   "id": "a36633f2-9914-4b5c-87dc-5675796e58a1",
   "metadata": {},
   "outputs": [
    {
     "name": "stdout",
     "output_type": "stream",
     "text": [
      "\n",
      "=== To-Do List Menu ===\n",
      "1. Add Task\n",
      "2. View Tasks\n",
      "3. Mark Task as Completed\n",
      "4. Remove Task\n",
      "5. Exit\n"
     ]
    },
    {
     "name": "stdin",
     "output_type": "stream",
     "text": [
      "Choose an option (1-5):  1\n",
      "Enter the task:  Hello\n"
     ]
    },
    {
     "name": "stdout",
     "output_type": "stream",
     "text": [
      "✅ Task 'Hello' added!\n",
      "\n",
      "=== To-Do List Menu ===\n",
      "1. Add Task\n",
      "2. View Tasks\n",
      "3. Mark Task as Completed\n",
      "4. Remove Task\n",
      "5. Exit\n"
     ]
    },
    {
     "name": "stdin",
     "output_type": "stream",
     "text": [
      "Choose an option (1-5):  2\n"
     ]
    },
    {
     "name": "stdout",
     "output_type": "stream",
     "text": [
      "\n",
      "🗒 Your To-Do List:\n",
      "1. [✔] gdghdh\n",
      "2. [❌] Hello\n",
      "\n",
      "=== To-Do List Menu ===\n",
      "1. Add Task\n",
      "2. View Tasks\n",
      "3. Mark Task as Completed\n",
      "4. Remove Task\n",
      "5. Exit\n"
     ]
    },
    {
     "name": "stdin",
     "output_type": "stream",
     "text": [
      "Choose an option (1-5):  5\n"
     ]
    },
    {
     "name": "stdout",
     "output_type": "stream",
     "text": [
      "👋 Exiting To-Do List. Goodbye!\n"
     ]
    }
   ],
   "source": [
    "import json\n",
    "\n",
    "FILENAME = \"tasks.json\"\n",
    "\n",
    "# Load tasks from a JSON file\n",
    "def load_tasks():\n",
    "    try:\n",
    "        with open(FILENAME, \"r\") as file:\n",
    "            return json.load(file)\n",
    "    except (FileNotFoundError, json.JSONDecodeError):\n",
    "        return []\n",
    "\n",
    "# Save tasks to a JSON file\n",
    "def save_tasks(tasks):\n",
    "    with open(FILENAME, \"w\") as file:\n",
    "        json.dump(tasks, file, indent=4)\n",
    "\n",
    "# Display the main menu\n",
    "def display_menu():\n",
    "    print(\"\\n=== To-Do List Menu ===\")\n",
    "    print(\"1. Add Task\")\n",
    "    print(\"2. View Tasks\")\n",
    "    print(\"3. Mark Task as Completed\")\n",
    "    print(\"4. Remove Task\")\n",
    "    print(\"5. Exit\")\n",
    "\n",
    "# Add a new task\n",
    "def add_task(tasks):\n",
    "    task_text = input(\"Enter the task: \").strip()\n",
    "    if task_text:\n",
    "        tasks.append({\"task\": task_text, \"completed\": False})\n",
    "        save_tasks(tasks)\n",
    "        print(f\"✅ Task '{task_text}' added!\")\n",
    "    else:\n",
    "        print(\"⚠ Task cannot be empty.\")\n",
    "\n",
    "# View all tasks\n",
    "def view_tasks(tasks):\n",
    "    if not tasks:\n",
    "        print(\"📭 No tasks in your to-do list.\")\n",
    "    else:\n",
    "        print(\"\\n🗒 Your To-Do List:\")\n",
    "        for idx, task in enumerate(tasks, 1):\n",
    "            status = \"✔\" if task[\"completed\"] else \"❌\"\n",
    "            print(f\"{idx}. [{status}] {task['task']}\")\n",
    "\n",
    "# Mark a task as completed\n",
    "def mark_completed(tasks):\n",
    "    view_tasks(tasks)\n",
    "    if tasks:\n",
    "        try:\n",
    "            num = int(input(\"Enter task number to mark as completed: \"))\n",
    "            if 1 <= num <= len(tasks):\n",
    "                tasks[num - 1][\"completed\"] = True\n",
    "                save_tasks(tasks)\n",
    "                print(f\"🎉 Task '{tasks[num - 1]['task']}' marked as completed!\")\n",
    "            else:\n",
    "                print(\"❌ Invalid task number.\")\n",
    "        except ValueError:\n",
    "            print(\"⚠ Please enter a valid number.\")\n",
    "\n",
    "# Remove a task\n",
    "def remove_task(tasks):\n",
    "    view_tasks(tasks)\n",
    "    if tasks:\n",
    "        try:\n",
    "            num = int(input(\"Enter task number to remove: \"))\n",
    "            if 1 <= num <= len(tasks):\n",
    "                removed = tasks.pop(num - 1)\n",
    "                save_tasks(tasks)\n",
    "                print(f\"🗑 Task '{removed['task']}' removed!\")\n",
    "            else:\n",
    "                print(\"❌ Invalid task number.\")\n",
    "        except ValueError:\n",
    "            print(\"⚠ Please enter a valid number.\")\n",
    "\n",
    "# Main program loop\n",
    "def main():\n",
    "    tasks = load_tasks()\n",
    "    while True:\n",
    "        display_menu()\n",
    "        choice = input(\"Choose an option (1-5): \")\n",
    "        if choice == '1':\n",
    "            add_task(tasks)\n",
    "        elif choice == '2':\n",
    "            view_tasks(tasks)\n",
    "        elif choice == '3':\n",
    "            mark_completed(tasks)\n",
    "        elif choice == '4':\n",
    "            remove_task(tasks)\n",
    "        elif choice == '5':\n",
    "            print(\"👋 Exiting To-Do List. Goodbye!\")\n",
    "            break\n",
    "        else:\n",
    "            print(\"⚠ Invalid choice. Please try again.\")\n",
    "\n",
    "# Entry point\n",
    "if __name__ == \"__main__\":\n",
    "    main()\n"
   ]
  },
  {
   "cell_type": "code",
   "execution_count": null,
   "id": "32c12294-da5a-42ad-8d97-6a4052346c98",
   "metadata": {},
   "outputs": [],
   "source": []
  }
 ],
 "metadata": {
  "kernelspec": {
   "display_name": "Python [conda env:base] *",
   "language": "python",
   "name": "conda-base-py"
  },
  "language_info": {
   "codemirror_mode": {
    "name": "ipython",
    "version": 3
   },
   "file_extension": ".py",
   "mimetype": "text/x-python",
   "name": "python",
   "nbconvert_exporter": "python",
   "pygments_lexer": "ipython3",
   "version": "3.12.7"
  }
 },
 "nbformat": 4,
 "nbformat_minor": 5
}
